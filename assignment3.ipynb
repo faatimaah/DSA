{
 "cells": [
  {
   "cell_type": "code",
   "execution_count": 1,
   "id": "e0e20d6d",
   "metadata": {},
   "outputs": [],
   "source": [
    "import numpy as np\n",
    "import pandas as pd\n",
    "import matplotlib.pyplot as plt\n",
    "import seaborn as sns"
   ]
  },
  {
   "cell_type": "code",
   "execution_count": 2,
   "id": "13811f46",
   "metadata": {},
   "outputs": [],
   "source": [
    "df = pd.read_csv(r'C:\\Users\\User\\Downloads\\StudentsPerformance.csv')"
   ]
  },
  {
   "cell_type": "code",
   "execution_count": 3,
   "id": "68389916",
   "metadata": {},
   "outputs": [
    {
     "data": {
      "text/html": [
       "<div>\n",
       "<style scoped>\n",
       "    .dataframe tbody tr th:only-of-type {\n",
       "        vertical-align: middle;\n",
       "    }\n",
       "\n",
       "    .dataframe tbody tr th {\n",
       "        vertical-align: top;\n",
       "    }\n",
       "\n",
       "    .dataframe thead th {\n",
       "        text-align: right;\n",
       "    }\n",
       "</style>\n",
       "<table border=\"1\" class=\"dataframe\">\n",
       "  <thead>\n",
       "    <tr style=\"text-align: right;\">\n",
       "      <th></th>\n",
       "      <th>gender</th>\n",
       "      <th>race/ethnicity</th>\n",
       "      <th>parental level of education</th>\n",
       "      <th>lunch</th>\n",
       "      <th>test preparation course</th>\n",
       "      <th>math score</th>\n",
       "      <th>reading score</th>\n",
       "      <th>writing score</th>\n",
       "    </tr>\n",
       "  </thead>\n",
       "  <tbody>\n",
       "    <tr>\n",
       "      <th>0</th>\n",
       "      <td>female</td>\n",
       "      <td>group C</td>\n",
       "      <td>some high school</td>\n",
       "      <td>free/reduced</td>\n",
       "      <td>none</td>\n",
       "      <td>0</td>\n",
       "      <td>17</td>\n",
       "      <td>10</td>\n",
       "    </tr>\n",
       "    <tr>\n",
       "      <th>1</th>\n",
       "      <td>female</td>\n",
       "      <td>group B</td>\n",
       "      <td>high school</td>\n",
       "      <td>free/reduced</td>\n",
       "      <td>none</td>\n",
       "      <td>8</td>\n",
       "      <td>24</td>\n",
       "      <td>23</td>\n",
       "    </tr>\n",
       "    <tr>\n",
       "      <th>2</th>\n",
       "      <td>female</td>\n",
       "      <td>group B</td>\n",
       "      <td>some high school</td>\n",
       "      <td>free/reduced</td>\n",
       "      <td>none</td>\n",
       "      <td>18</td>\n",
       "      <td>32</td>\n",
       "      <td>28</td>\n",
       "    </tr>\n",
       "    <tr>\n",
       "      <th>3</th>\n",
       "      <td>female</td>\n",
       "      <td>group B</td>\n",
       "      <td>some college</td>\n",
       "      <td>standard</td>\n",
       "      <td>none</td>\n",
       "      <td>11</td>\n",
       "      <td>38</td>\n",
       "      <td>32</td>\n",
       "    </tr>\n",
       "    <tr>\n",
       "      <th>4</th>\n",
       "      <td>female</td>\n",
       "      <td>group C</td>\n",
       "      <td>some college</td>\n",
       "      <td>free/reduced</td>\n",
       "      <td>none</td>\n",
       "      <td>22</td>\n",
       "      <td>39</td>\n",
       "      <td>33</td>\n",
       "    </tr>\n",
       "  </tbody>\n",
       "</table>\n",
       "</div>"
      ],
      "text/plain": [
       "   gender race/ethnicity parental level of education         lunch  \\\n",
       "0  female        group C            some high school  free/reduced   \n",
       "1  female        group B                 high school  free/reduced   \n",
       "2  female        group B            some high school  free/reduced   \n",
       "3  female        group B                some college      standard   \n",
       "4  female        group C                some college  free/reduced   \n",
       "\n",
       "  test preparation course  math score  reading score  writing score  \n",
       "0                    none           0             17             10  \n",
       "1                    none           8             24             23  \n",
       "2                    none          18             32             28  \n",
       "3                    none          11             38             32  \n",
       "4                    none          22             39             33  "
      ]
     },
     "execution_count": 3,
     "metadata": {},
     "output_type": "execute_result"
    }
   ],
   "source": [
    "df.head()"
   ]
  },
  {
   "cell_type": "code",
   "execution_count": 4,
   "id": "6c08e0e3",
   "metadata": {},
   "outputs": [
    {
     "data": {
      "text/html": [
       "<div>\n",
       "<style scoped>\n",
       "    .dataframe tbody tr th:only-of-type {\n",
       "        vertical-align: middle;\n",
       "    }\n",
       "\n",
       "    .dataframe tbody tr th {\n",
       "        vertical-align: top;\n",
       "    }\n",
       "\n",
       "    .dataframe thead th {\n",
       "        text-align: right;\n",
       "    }\n",
       "</style>\n",
       "<table border=\"1\" class=\"dataframe\">\n",
       "  <thead>\n",
       "    <tr style=\"text-align: right;\">\n",
       "      <th></th>\n",
       "      <th>math score</th>\n",
       "      <th>reading score</th>\n",
       "      <th>writing score</th>\n",
       "    </tr>\n",
       "  </thead>\n",
       "  <tbody>\n",
       "    <tr>\n",
       "      <th>count</th>\n",
       "      <td>1000.000000</td>\n",
       "      <td>1000.000000</td>\n",
       "      <td>1000.000000</td>\n",
       "    </tr>\n",
       "    <tr>\n",
       "      <th>mean</th>\n",
       "      <td>66.001000</td>\n",
       "      <td>69.195000</td>\n",
       "      <td>68.119000</td>\n",
       "    </tr>\n",
       "    <tr>\n",
       "      <th>std</th>\n",
       "      <td>15.569567</td>\n",
       "      <td>14.706436</td>\n",
       "      <td>15.226381</td>\n",
       "    </tr>\n",
       "    <tr>\n",
       "      <th>min</th>\n",
       "      <td>0.000000</td>\n",
       "      <td>17.000000</td>\n",
       "      <td>10.000000</td>\n",
       "    </tr>\n",
       "    <tr>\n",
       "      <th>25%</th>\n",
       "      <td>57.000000</td>\n",
       "      <td>59.000000</td>\n",
       "      <td>58.000000</td>\n",
       "    </tr>\n",
       "    <tr>\n",
       "      <th>50%</th>\n",
       "      <td>66.000000</td>\n",
       "      <td>70.000000</td>\n",
       "      <td>69.000000</td>\n",
       "    </tr>\n",
       "    <tr>\n",
       "      <th>75%</th>\n",
       "      <td>77.000000</td>\n",
       "      <td>79.250000</td>\n",
       "      <td>79.000000</td>\n",
       "    </tr>\n",
       "    <tr>\n",
       "      <th>max</th>\n",
       "      <td>100.000000</td>\n",
       "      <td>100.000000</td>\n",
       "      <td>100.000000</td>\n",
       "    </tr>\n",
       "  </tbody>\n",
       "</table>\n",
       "</div>"
      ],
      "text/plain": [
       "        math score  reading score  writing score\n",
       "count  1000.000000    1000.000000    1000.000000\n",
       "mean     66.001000      69.195000      68.119000\n",
       "std      15.569567      14.706436      15.226381\n",
       "min       0.000000      17.000000      10.000000\n",
       "25%      57.000000      59.000000      58.000000\n",
       "50%      66.000000      70.000000      69.000000\n",
       "75%      77.000000      79.250000      79.000000\n",
       "max     100.000000     100.000000     100.000000"
      ]
     },
     "execution_count": 4,
     "metadata": {},
     "output_type": "execute_result"
    }
   ],
   "source": [
    "df.describe()"
   ]
  },
  {
   "cell_type": "markdown",
   "id": "48c0d7f1",
   "metadata": {},
   "source": [
    "<h3>1.Find out how many males and females participated in the test</h3>"
   ]
  },
  {
   "cell_type": "code",
   "execution_count": 5,
   "id": "88af4c42",
   "metadata": {},
   "outputs": [
    {
     "name": "stdout",
     "output_type": "stream",
     "text": [
      "female    518\n",
      "male      482\n",
      "Name: gender, dtype: int64\n"
     ]
    }
   ],
   "source": [
    "gender_counts = df[\"gender\"].value_counts()\n",
    "print(gender_counts)"
   ]
  },
  {
   "cell_type": "code",
   "execution_count": 6,
   "id": "412734c3",
   "metadata": {},
   "outputs": [
    {
     "data": {
      "image/png": "[encoded data removed]",
      "text/plain": [
       "<Figure size 640x480 with 1 Axes>"
      ]
     },
     "metadata": {},
     "output_type": "display_data"
    }
   ],
   "source": [
    "plt.bar(gender_counts.index, gender_counts.values,color=[\"#502C44\", \"#3F502C\"])\n",
    "plt.xlabel(\"Gender\")\n",
    "plt.ylabel(\"Count\")\n",
    "plt.title(\"Number of Males and Females in the Test\")\n",
    "plt.xticks(fontsize=12)\n",
    "plt.yticks(fontsize=12)\n",
    "plt.show()"
   ]
  },
  {
   "cell_type": "markdown",
   "id": "af8ade24",
   "metadata": {},
   "source": [
    "\n",
    "<h3>2.What do you think about the students' parental level of education?</h3>"
   ]
  },
  {
   "cell_type": "code",
   "execution_count": 7,
   "id": "7e663cab",
   "metadata": {},
   "outputs": [],
   "source": [
    "parental_education_counts = df[\"parental level of education\"].value_counts()"
   ]
  },
  {
   "cell_type": "code",
   "execution_count": 8,
   "id": "0178b0c0",
   "metadata": {},
   "outputs": [
    {
     "data": {
      "image/png": "[encoded data removed]",
      "text/plain": [
       "<Figure size 640x480 with 1 Axes>"
      ]
     },
     "metadata": {},
     "output_type": "display_data"
    }
   ],
   "source": [
    "plt.bar(parental_education_counts.index, parental_education_counts.values, color=\"green\")\n",
    "plt.xlabel(\"Parental Level of Education\")\n",
    "plt.ylabel(\"Count\")\n",
    "plt.title(\"Distribution of Parental Level of Education\")\n",
    "plt.xticks(rotation=90, ha=\"right\")\n",
    "plt.show()"
   ]
  },
  {
   "cell_type": "markdown",
   "id": "52a076a7",
   "metadata": {},
   "source": [
    "<h3>3.Who scores the most on average for math, reading and writing based on\n",
    "● Gender\n",
    "● Test preparation course</h3>"
   ]
  },
  {
   "cell_type": "code",
   "execution_count": 9,
   "id": "cbd27606",
   "metadata": {},
   "outputs": [],
   "source": [
    "import statistics"
   ]
  },
  {
   "cell_type": "code",
   "execution_count": 10,
   "id": "5a1f43e5",
   "metadata": {},
   "outputs": [],
   "source": [
    "average_scores = df.groupby([\"gender\", \"test preparation course\"])[[\"math score\", \"reading score\", \"writing score\"]].mean()"
   ]
  },
  {
   "cell_type": "code",
   "execution_count": 11,
   "id": "decd9588",
   "metadata": {},
   "outputs": [],
   "source": [
    "highest_math_score = average_scores[\"math score\"].idxmax()\n",
    "highest_reading_score = average_scores[\"reading score\"].idxmax()\n",
    "highest_writing_score = average_scores[\"writing score\"].idxmax()"
   ]
  },
  {
   "cell_type": "code",
   "execution_count": 12,
   "id": "c5f29ec7",
   "metadata": {},
   "outputs": [
    {
     "name": "stdout",
     "output_type": "stream",
     "text": [
      "Highest Average Math Score: ('male', 'completed')\n",
      "Highest Average Reading Score: ('female', 'completed')\n",
      "Highest Average Writing Score: ('female', 'completed')\n"
     ]
    }
   ],
   "source": [
    "print(f\"Highest Average Math Score: {highest_math_score}\")\n",
    "print(f\"Highest Average Reading Score: {highest_reading_score}\")\n",
    "print(f\"Highest Average Writing Score: {highest_writing_score}\")"
   ]
  },
  {
   "cell_type": "markdown",
   "id": "8eb65dac",
   "metadata": {},
   "source": [
    "<h3>4.What do you think about the scoring variation for math, reading and writing\n",
    "based on\n",
    "● Gender\n",
    "● Test preparation course</h3>"
   ]
  },
  {
   "cell_type": "code",
   "execution_count": 13,
   "id": "0be99733",
   "metadata": {},
   "outputs": [],
   "source": [
    "grouped_data = df.groupby(['gender', 'test preparation course'])"
   ]
  },
  {
   "cell_type": "code",
   "execution_count": 14,
   "id": "449ef927",
   "metadata": {},
   "outputs": [],
   "source": [
    "std_scores = grouped_data[['math score', 'reading score', 'writing score']].std().round(2)\n",
    "var_scores = grouped_data[['math score', 'reading score', 'writing score']].var().round(2)"
   ]
  },
  {
   "cell_type": "code",
   "execution_count": 15,
   "id": "55de1e3c",
   "metadata": {},
   "outputs": [
    {
     "name": "stdout",
     "output_type": "stream",
     "text": [
      "Standard Deviation of Scores:\n",
      "                                math score  reading score  writing score\n",
      "gender test preparation course                                          \n",
      "female completed                     14.43          12.70          12.24\n",
      "       none                          16.51          14.64          15.02\n",
      "male   completed                     14.04          13.61          12.89\n",
      "       none                          14.34          13.60          13.47\n"
     ]
    }
   ],
   "source": [
    "print(\"Standard Deviation of Scores:\")\n",
    "print(std_scores)"
   ]
  },
  {
   "cell_type": "code",
   "execution_count": 16,
   "id": "c97b7c45",
   "metadata": {},
   "outputs": [
    {
     "name": "stdout",
     "output_type": "stream",
     "text": [
      "\n",
      "Variance of Scores:\n",
      "                                math score  reading score  writing score\n",
      "gender test preparation course                                          \n",
      "female completed                    208.17         161.18         149.84\n",
      "       none                         272.60         214.24         225.50\n",
      "male   completed                    197.10         185.30         166.10\n",
      "       none                         205.51         184.84         181.39\n"
     ]
    }
   ],
   "source": [
    "print(\"\\nVariance of Scores:\")\n",
    "print(var_scores)"
   ]
  },
  {
   "cell_type": "markdown",
   "id": "a06b956a",
   "metadata": {},
   "source": [
    " Higher standard deviation and variance values indicate greater variation or spread of scores, while lower values indicate less variation"
   ]
  },
  {
   "cell_type": "markdown",
   "id": "d931261f",
   "metadata": {},
   "source": [
    "<h3>5.The management needs your help to give bonus points to the top 25% of\n",
    "students based on their math score, so how will you help the management\n",
    "to achieve this.</h3>"
   ]
  },
  {
   "cell_type": "code",
   "execution_count": 17,
   "id": "19c2040d",
   "metadata": {},
   "outputs": [],
   "source": [
    "# Calculate the threshold math score for the top 25%\n",
    "threshold_score = df['math score'].quantile(0.75)"
   ]
  },
  {
   "cell_type": "code",
   "execution_count": 18,
   "id": "9d71b199",
   "metadata": {},
   "outputs": [],
   "source": [
    "# Identify the students who score in the top 25% based on math score\n",
    "top_students = df[df['math score'] >= threshold_score]"
   ]
  },
  {
   "cell_type": "code",
   "execution_count": 19,
   "id": "7265871f",
   "metadata": {},
   "outputs": [
    {
     "name": "stdout",
     "output_type": "stream",
     "text": [
      "     math score  reading score  writing score\n",
      "414          77             88             85\n",
      "415          77             97             94\n",
      "416          77             85             87\n",
      "417          77             90             84\n",
      "418          77             82             89\n",
      "..          ...            ...            ...\n",
      "995          99             87             81\n",
      "996         100             96             86\n",
      "997         100             97             99\n",
      "998         100            100             93\n",
      "999         100            100            100\n",
      "\n",
      "[255 rows x 3 columns]\n"
     ]
    }
   ],
   "source": [
    "print(top_students[['math score', 'reading score', 'writing score']])"
   ]
  },
  {
   "cell_type": "code",
   "execution_count": null,
   "id": "ef1076f4",
   "metadata": {},
   "outputs": [],
   "source": []
  }
 ],
 "metadata": {
  "kernelspec": {
   "display_name": "Python 3 (ipykernel)",
   "language": "python",
   "name": "python3"
  },
  "language_info": {
   "codemirror_mode": {
    "name": "ipython",
    "version": 3
   },
   "file_extension": ".py",
   "mimetype": "text/x-python",
   "name": "python",
   "nbconvert_exporter": "python",
   "pygments_lexer": "ipython3",
   "version": "3.10.9"
  }
 },
 "nbformat": 4,
 "nbformat_minor": 5
}
